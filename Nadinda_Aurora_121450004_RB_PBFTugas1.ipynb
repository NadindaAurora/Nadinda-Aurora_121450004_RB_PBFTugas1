{
  "nbformat": 4,
  "nbformat_minor": 0,
  "metadata": {
    "colab": {
      "provenance": []
    },
    "kernelspec": {
      "name": "python3",
      "display_name": "Python 3"
    },
    "language_info": {
      "name": "python"
    }
  },
  "cells": [
    {
      "cell_type": "markdown",
      "source": [
        "1.  Jelaskan menggunakan tabel mengenai kelebihan dan kekurangan paradigma Procedural dibandingkan dengan Object Oriented (minimal 3) !"
      ],
      "metadata": {
        "id": "M7dbjOeiOqua"
      }
    },
    {
      "cell_type": "markdown",
      "source": [
        "Kelebihan Paradigma procedural dan object oriented:\n"
      ],
      "metadata": {
        "id": "77VrI2mYOzgr"
      }
    },
    {
      "cell_type": "code",
      "source": [
        "from tabulate import tabulate\n",
        "data = [[\"Pemrogramannya cenderung lebih mudah dipahami dibandingkan object oriented\",\"Pemrogramannya cenderung lebih sulit dipahami dibandingkan procedural\"],\n",
        "        [\"Memiliki modularitas yang kompleks didalam sebuah program sehingga data yang di inputkan tidak mudah termodifikasi\",\"Kurangnya modularitas yang kompleks sehingga didalam program oriented datanya mudah termodifikasi\"]\n",
        "        ,[\"Cocok untuk program sederhana\",\"Kurang cocok untuk program sederhana\"]]\n",
        "print(tabulate(data, headers=[\"Procedural\",\"Oriented\"],tablefmt=\"fancy_grid\"))"
      ],
      "metadata": {
        "colab": {
          "base_uri": "https://localhost:8080/"
        },
        "id": "WgcL7aJTSB8y",
        "outputId": "6885b499-85f0-4e3c-d5ad-04647fdaaa79"
      },
      "execution_count": 1,
      "outputs": [
        {
          "output_type": "stream",
          "name": "stdout",
          "text": [
            "╒════════════════════════════════════════════════════════════════════════════════════════════════════════════════════╤═══════════════════════════════════════════════════════════════════════════════════════════════════╕\n",
            "│ Procedural                                                                                                         │ Oriented                                                                                          │\n",
            "╞════════════════════════════════════════════════════════════════════════════════════════════════════════════════════╪═══════════════════════════════════════════════════════════════════════════════════════════════════╡\n",
            "│ Pemrogramannya cenderung lebih mudah dipahami dibandingkan object oriented                                         │ Pemrogramannya cenderung lebih sulit dipahami dibandingkan procedural                             │\n",
            "├────────────────────────────────────────────────────────────────────────────────────────────────────────────────────┼───────────────────────────────────────────────────────────────────────────────────────────────────┤\n",
            "│ Memiliki modularitas yang kompleks didalam sebuah program sehingga data yang di inputkan tidak mudah termodifikasi │ Kurangnya modularitas yang kompleks sehingga didalam program oriented datanya mudah termodifikasi │\n",
            "├────────────────────────────────────────────────────────────────────────────────────────────────────────────────────┼───────────────────────────────────────────────────────────────────────────────────────────────────┤\n",
            "│ Cocok untuk program sederhana                                                                                      │ Kurang cocok untuk program sederhana                                                              │\n",
            "╘════════════════════════════════════════════════════════════════════════════════════════════════════════════════════╧═══════════════════════════════════════════════════════════════════════════════════════════════════╛\n"
          ]
        }
      ]
    },
    {
      "cell_type": "markdown",
      "source": [
        "Kekurangan paradigma procedural dan object oriented :"
      ],
      "metadata": {
        "id": "NhKdI7-FSTVt"
      }
    },
    {
      "cell_type": "code",
      "source": [
        "from tabulate import tabulate\n",
        "data = [[\"Paradigma prosedural tidak memiliki akses guna modifiers\",\"OOP memiliki akses (protected, public, dan private)\"],\n",
        "        [\"Memiliki tingkat keamanan yang rendah dibandingkan oriented\",\"Memiliki tingkat keamanan yang tinggi dibandingkan procedural\"]\n",
        "        ,[\"Kurang cocok untuk program yang bersifat kompleks\",\"Cocok untuk program aplikasi yang bersifat kompleks\"]]\n",
        "print(tabulate(data, headers=[\"Procedural\",\"Oriented\"],tablefmt=\"fancy_grid\"))\n",
        "     "
      ],
      "metadata": {
        "colab": {
          "base_uri": "https://localhost:8080/"
        },
        "id": "J-NrXieaST-t",
        "outputId": "21e8edfd-0912-4de5-8e92-0a441451abe8"
      },
      "execution_count": 2,
      "outputs": [
        {
          "output_type": "stream",
          "name": "stdout",
          "text": [
            "╒═════════════════════════════════════════════════════════════╤═══════════════════════════════════════════════════════════════╕\n",
            "│ Procedural                                                  │ Oriented                                                      │\n",
            "╞═════════════════════════════════════════════════════════════╪═══════════════════════════════════════════════════════════════╡\n",
            "│ Paradigma prosedural tidak memiliki akses guna modifiers    │ OOP memiliki akses (protected, public, dan private)           │\n",
            "├─────────────────────────────────────────────────────────────┼───────────────────────────────────────────────────────────────┤\n",
            "│ Memiliki tingkat keamanan yang rendah dibandingkan oriented │ Memiliki tingkat keamanan yang tinggi dibandingkan procedural │\n",
            "├─────────────────────────────────────────────────────────────┼───────────────────────────────────────────────────────────────┤\n",
            "│ Kurang cocok untuk program yang bersifat kompleks           │ Cocok untuk program aplikasi yang bersifat kompleks           │\n",
            "╘═════════════════════════════════════════════════════════════╧═══════════════════════════════════════════════════════════════╛\n"
          ]
        }
      ]
    },
    {
      "cell_type": "markdown",
      "source": [
        "2. Jelaskan menggunakan tabel mengenai kelebihan dan kekurangan paradigma Object Oriented dibandingkan dengan Functional (minimal 3) !"
      ],
      "metadata": {
        "id": "y1CQo_byTg2x"
      }
    },
    {
      "cell_type": "markdown",
      "source": [
        "Kelebihan Object Oriented dibandingkan Functional:"
      ],
      "metadata": {
        "id": "ytPbXYtDTpH8"
      }
    },
    {
      "cell_type": "code",
      "source": [
        "from tabulate import tabulate\n",
        "data = [[\"Oriented di support oleh banyak library yang berguna mempercepat penyelesaian program yang di inputkan\",\"Library yang ada tidak sebanyak oriented sehingga memerlukan waktu banyak untuk penyelesaian program\"],\n",
        "        [\"Cocok untuk mengerjakan proyek besar kompleks karena designnya modular\",\"Kurang cocok untuk mengerjakan proyek besar\"]\n",
        "        ,[\"Sistem Program dapat dikembangankan sampai skala kompleks\",\"Sistem program tidak dapat dikembangkan ke skala kompleks\"]]\n",
        "print(tabulate(data, headers=[\"Oriented\",\"Functional\"],tablefmt=\"fancy_grid\"))"
      ],
      "metadata": {
        "colab": {
          "base_uri": "https://localhost:8080/"
        },
        "id": "BysOu8dVTqMR",
        "outputId": "6b80f272-c23a-4920-92a0-c854b0ef82de"
      },
      "execution_count": 4,
      "outputs": [
        {
          "output_type": "stream",
          "name": "stdout",
          "text": [
            "╒════════════════════════════════════════════════════════════════════════════════════════════════════════╤══════════════════════════════════════════════════════════════════════════════════════════════════════╕\n",
            "│ Oriented                                                                                               │ Functional                                                                                           │\n",
            "╞════════════════════════════════════════════════════════════════════════════════════════════════════════╪══════════════════════════════════════════════════════════════════════════════════════════════════════╡\n",
            "│ Oriented di support oleh banyak library yang berguna mempercepat penyelesaian program yang di inputkan │ Library yang ada tidak sebanyak oriented sehingga memerlukan waktu banyak untuk penyelesaian program │\n",
            "├────────────────────────────────────────────────────────────────────────────────────────────────────────┼──────────────────────────────────────────────────────────────────────────────────────────────────────┤\n",
            "│ Cocok untuk mengerjakan proyek besar kompleks karena designnya modular                                 │ Kurang cocok untuk mengerjakan proyek besar                                                          │\n",
            "├────────────────────────────────────────────────────────────────────────────────────────────────────────┼──────────────────────────────────────────────────────────────────────────────────────────────────────┤\n",
            "│ Sistem Program dapat dikembangankan sampai skala kompleks                                              │ Sistem program tidak dapat dikembangkan ke skala kompleks                                            │\n",
            "╘════════════════════════════════════════════════════════════════════════════════════════════════════════╧══════════════════════════════════════════════════════════════════════════════════════════════════════╛\n"
          ]
        }
      ]
    },
    {
      "cell_type": "markdown",
      "source": [
        "Kekurangan Object Oriented dibandingkan Functional:\n"
      ],
      "metadata": {
        "id": "HHExGdgXUzvo"
      }
    },
    {
      "cell_type": "code",
      "source": [
        "from tabulate import tabulate\n",
        "data = [[\"Ukuran program cenderung lebih besar\",\"Ukuran program cenderung lebih kecil\"],\n",
        "        [\"Runtime program oriented lebih lama dibandingkan functional\",\"Runtime program lebih cepat dibandingkan oriented\"]\n",
        "        ,[\"Program oriented lebih kompleks sehingga membutuhkan cukup waktu untuk terbiasa\",\"Program cenderung tidak terlalu kompleks dibandingkan dengan oriented\"]]\n",
        "print(tabulate(data, headers=[\"Oriented\",\"Functional\"],tablefmt=\"fancy_grid\"))"
      ],
      "metadata": {
        "colab": {
          "base_uri": "https://localhost:8080/"
        },
        "id": "f7QBJV0GU0ZV",
        "outputId": "26acd285-96e0-49af-b445-515bd32c2c9b"
      },
      "execution_count": 5,
      "outputs": [
        {
          "output_type": "stream",
          "name": "stdout",
          "text": [
            "╒═════════════════════════════════════════════════════════════════════════════════╤═══════════════════════════════════════════════════════════════════════╕\n",
            "│ Oriented                                                                        │ Functional                                                            │\n",
            "╞═════════════════════════════════════════════════════════════════════════════════╪═══════════════════════════════════════════════════════════════════════╡\n",
            "│ Ukuran program cenderung lebih besar                                            │ Ukuran program cenderung lebih kecil                                  │\n",
            "├─────────────────────────────────────────────────────────────────────────────────┼───────────────────────────────────────────────────────────────────────┤\n",
            "│ Runtime program oriented lebih lama dibandingkan functional                     │ Runtime program lebih cepat dibandingkan oriented                     │\n",
            "├─────────────────────────────────────────────────────────────────────────────────┼───────────────────────────────────────────────────────────────────────┤\n",
            "│ Program oriented lebih kompleks sehingga membutuhkan cukup waktu untuk terbiasa │ Program cenderung tidak terlalu kompleks dibandingkan dengan oriented │\n",
            "╘═════════════════════════════════════════════════════════════════════════════════╧═══════════════════════════════════════════════════════════════════════╛\n"
          ]
        }
      ]
    },
    {
      "cell_type": "markdown",
      "source": [
        "3. Jelaskan menggunakan tabel mengenai kelebihan dan kekurangan paradigma Procedural dibandingkan dengan Functional (minimal 3) !"
      ],
      "metadata": {
        "id": "4dtziCWsVTiM"
      }
    },
    {
      "cell_type": "markdown",
      "source": [
        "Kelebihan procedural dibandingkan functional:\n"
      ],
      "metadata": {
        "id": "aXh-NGRIVUTR"
      }
    },
    {
      "cell_type": "code",
      "source": [
        "from tabulate import tabulate\n",
        "data = [[\"Implementasi dari algoritma paradigma cenderung mudah dipahami\",\"Cenderung kurang dapat dipahami untuk pemula\"],\n",
        "        [\"Bersifat mutable untuk data\",\"Bersifat imutable untuk data\"]\n",
        "        ,[\"Penggunaan looping normal\",\"Penggunaan looping yang sulit\"]]\n",
        "print(tabulate(data, headers=[\"Procedural\",\"Functional\"],tablefmt=\"fancy_grid\"))"
      ],
      "metadata": {
        "colab": {
          "base_uri": "https://localhost:8080/"
        },
        "id": "ZFpOu-mLVWgq",
        "outputId": "31ed6841-da70-4de5-ac9c-1f3a6b9523c9"
      },
      "execution_count": 7,
      "outputs": [
        {
          "output_type": "stream",
          "name": "stdout",
          "text": [
            "╒════════════════════════════════════════════════════════════════╤══════════════════════════════════════════════╕\n",
            "│ Procedural                                                     │ Functional                                   │\n",
            "╞════════════════════════════════════════════════════════════════╪══════════════════════════════════════════════╡\n",
            "│ Implementasi dari algoritma paradigma cenderung mudah dipahami │ Cenderung kurang dapat dipahami untuk pemula │\n",
            "├────────────────────────────────────────────────────────────────┼──────────────────────────────────────────────┤\n",
            "│ Bersifat mutable untuk data                                    │ Bersifat imutable untuk data                 │\n",
            "├────────────────────────────────────────────────────────────────┼──────────────────────────────────────────────┤\n",
            "│ Penggunaan looping normal                                      │ Penggunaan looping yang sulit                │\n",
            "╘════════════════════════════════════════════════════════════════╧══════════════════════════════════════════════╛\n"
          ]
        }
      ]
    },
    {
      "cell_type": "markdown",
      "source": [
        "Kekurangan procedural dibandingkan functional:"
      ],
      "metadata": {
        "id": "pT2aqsF7Win2"
      }
    },
    {
      "cell_type": "code",
      "source": [
        "from tabulate import tabulate\n",
        "data = [[\"Proses debug lebih lambat\",\"Proses debug lebih cepat\"],\n",
        "        [\"Cenderung kurang cocok digunakan guna pengembangan program sensitif terhadap data\",\"Cocok digunakan untuk pengembangan program yang sensitif terhadap data\"]\n",
        "        ,[\"Cenderung jarang menggunakan fungsi\",\"Cenderung menggunakan fungsi agar lebih kompleks\"]]\n",
        "print(tabulate(data, headers=[\"Procedural\",\"Functional\"],tablefmt=\"fancy_grid\"))"
      ],
      "metadata": {
        "colab": {
          "base_uri": "https://localhost:8080/"
        },
        "id": "mqwre2f7XK_H",
        "outputId": "be93cd09-af9f-40b8-9dfd-812df0834d9a"
      },
      "execution_count": 8,
      "outputs": [
        {
          "output_type": "stream",
          "name": "stdout",
          "text": [
            "╒═══════════════════════════════════════════════════════════════════════════════════╤════════════════════════════════════════════════════════════════════════╕\n",
            "│ Procedural                                                                        │ Functional                                                             │\n",
            "╞═══════════════════════════════════════════════════════════════════════════════════╪════════════════════════════════════════════════════════════════════════╡\n",
            "│ Proses debug lebih lambat                                                         │ Proses debug lebih cepat                                               │\n",
            "├───────────────────────────────────────────────────────────────────────────────────┼────────────────────────────────────────────────────────────────────────┤\n",
            "│ Cenderung kurang cocok digunakan guna pengembangan program sensitif terhadap data │ Cocok digunakan untuk pengembangan program yang sensitif terhadap data │\n",
            "├───────────────────────────────────────────────────────────────────────────────────┼────────────────────────────────────────────────────────────────────────┤\n",
            "│ Cenderung jarang menggunakan fungsi                                               │ Cenderung menggunakan fungsi agar lebih kompleks                       │\n",
            "╘═══════════════════════════════════════════════════════════════════════════════════╧════════════════════════════════════════════════════════════════════════╛\n"
          ]
        }
      ]
    },
    {
      "cell_type": "markdown",
      "source": [
        "4. Apa yang dimaksud dengan pure functional programming language?"
      ],
      "metadata": {
        "id": "OD_TkKUIXRAP"
      }
    },
    {
      "cell_type": "markdown",
      "source": [
        "**Pure functional programming language** adalah paradigma pemrograman yang\n",
        "hanya menggunakan fungsi matematis sebagai dasar untuk memecahkan masalah dan\n",
        "membuat program. Fungsi Pure functional programming language menerima\n",
        "parameter sebagai input dan mengembalikan nilai tanpa mengubah nilai variabel yang ada.\n",
        "**Keuntungan** dari Pure functional programming language adalah lebih efisien dan lebih mudah diimplementasikan\n",
        "diuji atau digunakan. Pada saat yang sama, ada **kerugian** yang masuk dan menghasilkan hasil yang sederhana akan lebih mudah tetapi bila program yang rumit maka kita akan sulit untuk \n",
        "menuliskanya dan memilih menggunakan masukan dan keluaran yang sederhana"
      ],
      "metadata": {
        "id": "TAKoQkLzXSFj"
      }
    },
    {
      "cell_type": "markdown",
      "source": [
        "5. Dari bahasa pemrograman FP di slide sebelumnya ( slide 14 ) , manakah yang termasuk pure functional programming language?"
      ],
      "metadata": {
        "id": "dZRjJTZFXXPd"
      }
    },
    {
      "cell_type": "markdown",
      "source": [
        "\n",
        "1.   Lisp\n",
        "2.   Haskell\n",
        "3.   Standard ML"
      ],
      "metadata": {
        "id": "APfK1MloXpFT"
      }
    },
    {
      "cell_type": "markdown",
      "source": [
        "6. Membuat program Simple Password encryption, dengan ketentuan :\n",
        "    1. Input password bertipe string dengan batasan panjang password \n",
        "100 karakter\n",
        "    2. Setiap karakter dari string tersebut diubah menjadi ASCII value\n",
        "    3. Kemudian setiap ASCII value tersebut dikembangkan menjadi 3\n",
        "Value dengan dilakukan operasi berikut:\n",
        "\n",
        "*    Value dengan dilakukan operasi berikut:\n",
        "    1. Value pertama dibagi dengan integer 26 kemudian \n",
        "dibulatkan dan dijumlahkan dengan 80 kemudian diubah \n",
        "kembali menjadi karakter\n",
        "    2. Value kedua dihitung sisa bagi dengan 26 kemudian \n",
        "dijumlahkan dengan 80 kemudian diubah kembali menjadi \n",
        "karakter\n",
        "    3. Value ketiga adalah karakter ‘+’ jika value pertama lebih \n",
        "besar dari value kedua, atau value ketiga adalah karakter ‘-’ \n",
        "jika value pertama tidak lebih besar dari value kedua\n",
        "    4. Deretkan value pertama, kedua dan ketiga untuk setiap karakter \n",
        "dalam password tersebut sehingga didapatkan password dalam \n",
        "bentuk baru\n"
      ],
      "metadata": {
        "id": "8HZr1X2_YH4v"
      }
    },
    {
      "cell_type": "code",
      "source": [
        "# fungsi enkripsi\n",
        "def enkripsi(password):\n",
        "  # jika panjang karakter lebih dari 100\n",
        "  if len(password) > 100 or len(password) == 0:\n",
        "    print(\"Enter 1-100 characters\")\n",
        "  else:\n",
        "    # merubah setiap karakter menjadi kode ascii dan ditampung dalam list\n",
        "    ascii = [str(ord(i)) for i in password]\n",
        "    # membuat 3 value dari setiap kode ascii dan menggabungkan semuanya\n",
        "    enkri = ''.join(chr((int(j)//26)+80)+chr((int(j)%26)+80)+('+' if (int(j)//26)+80 > (int(j)%26)+80 else '-') for j in ascii)\n",
        "    # menampilkan hasil enkripsi\n",
        "    print(\"The encryption password is: \", enkri)\n",
        "\n",
        "# fungsi dekripsi\n",
        "def dekripsi(password):\n",
        "  # split 3 value \n",
        "  split_ps = [(password[k:k+3]) for k in range(0, len(password), 3)]\n",
        "  # membuat 3 value kembali ke kode ascii lalu ke karakter asli dan menggabungkan semuanya\n",
        "  dekri = ''.join(chr(((ord(list(z)[0])-80)*26)+(ord(list(z)[1])-80)) for z in split_ps)\n",
        "  # menampilkan hasil dekripsi\n",
        "  print(\"The password is: \", dekri)"
      ],
      "metadata": {
        "id": "bsWVOJxBY8Bz"
      },
      "execution_count": 9,
      "outputs": []
    },
    {
      "cell_type": "code",
      "source": [
        "# enkripsi\n",
        "password = input(\"Enter Password: \")\n",
        "enkripsi(password)"
      ],
      "metadata": {
        "colab": {
          "base_uri": "https://localhost:8080/"
        },
        "id": "DqXBCVapZv4V",
        "outputId": "69988ffb-034d-4a6b-b35d-c393ececc9b8"
      },
      "execution_count": 10,
      "outputs": [
        {
          "output_type": "stream",
          "name": "stdout",
          "text": [
            "Enter Password: nadindaaurora\n",
            "The encryption password is:  TV-Sc-Sf-TQ+TV-Sf-Sc-Sc-T]-TZ-TW-TZ-Sc-\n"
          ]
        }
      ]
    }
  ]
}